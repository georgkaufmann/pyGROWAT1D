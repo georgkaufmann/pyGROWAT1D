{
 "cells": [
  {
   "cell_type": "markdown",
   "id": "0d6100a2-d8ce-431e-838d-956bd0e194de",
   "metadata": {},
   "source": [
    "<table>\n",
    "<tr><td><img style=\"height: 150px;\" src=\"images/geo_hydro1.jpg\"></td>\n",
    "<td bgcolor=\"#FFFFFF\">\n",
    "    <p style=\"font-size: xx-large; font-weight: 900; line-height: 100%\">pyGROWAT1D</p>\n",
    "    <p style=\"font-size: large; color: rgba(0,0,0,0.5);\"><b style=color:red;>GRO</b>und<b style=color:red;>WAT</b>er</p>\n",
    "    <p style=\"font-size: large; color: rgba(0,0,0,0.5);\">Georg Kaufmann</p>\n",
    "    </td>\n",
    "<td><img style=\"height: 150px;\" src=\"images/pyGROWAT1D.png\"></td>\n",
    "</tr>\n",
    "</table>\n",
    "\n",
    "----\n",
    "# `pyGROWAT1D`\n",
    "\n",
    "GROundWATer1D, a program package for  flow in porous rocks."
   ]
  },
  {
   "cell_type": "code",
   "execution_count": 1,
   "id": "b4b143c5-1f31-418e-9e2b-beaf6a075cbe",
   "metadata": {
    "tags": []
   },
   "outputs": [],
   "source": [
    "import matplotlib.pyplot as plt\n",
    "import numpy as np\n",
    "import scipy.sparse.linalg\n",
    "import sys\n",
    "\n",
    "import libGROWAT1D"
   ]
  },
  {
   "cell_type": "markdown",
   "id": "dee861b8-6a70-4c76-bb21-b980ed853502",
   "metadata": {},
   "source": [
    "----\n",
    "# Run `pyGROWAT1D`\n",
    "\n",
    "Now we have assembed and discussed all relevant functions.\n",
    "\n",
    "We group the functions in a wrapper function, `pyGROWAT1D()`.\n",
    "Two options are passed:\n",
    "- `state`: choice for \n",
    "    - **steady-state solution:** `'ss'`\n",
    "    - **transient solution:** `'t'`\n",
    "- `saved`: choice for output \n",
    "     - 'nnn': no,no,no\n",
    "     - 'snn': screen,no,no\n",
    "     - 'san': screen,ascii,no \n",
    "     - 'snv': screen,no,plot ..."
   ]
  },
  {
   "cell_type": "code",
   "execution_count": 2,
   "id": "f0145301-4e4c-4222-aa5a-b3c8e1b63b5a",
   "metadata": {
    "tags": []
   },
   "outputs": [],
   "source": [
    "def pyGROWAT1D(state='ss',saved='snn'):\n",
    "    eastmin,eastmax,nx,time_start,time_end,time_step,time_scale,whichtime = \\\n",
    "    libGROWAT1D.readParameter1D(control=True)\n",
    "    dataBC = libGROWAT1D.readBC1D(control=True)\n",
    "    dataMAT = libGROWAT1D.readMaterials1D(control=True)\n",
    "    X,dx = libGROWAT1D.createNodes1D(eastmin,eastmax,nx,control=True)\n",
    "    K,S,head,flow,vx = libGROWAT1D.createFields1D(nx)\n",
    "    K,S = libGROWAT1D.createProperties1D(dataMAT,K,S,X,nx,control=True)\n",
    "\n",
    "    itime    = 0\n",
    "    time     = time_start\n",
    "    while (time <= time_end):\n",
    "        # set boundary conditions\n",
    "        ibound,irecharge,head,flow = libGROWAT1D.buildBC1D(dataBC,dx,time,time_scale,head,flow,control=False)\n",
    "        # assemble matrix and rhs of system of equations\n",
    "        headOld = np.copy(head)\n",
    "        flowOld = np.copy(flow)\n",
    "        if (state=='ss'):\n",
    "            matrix,rhs = libGROWAT1D.buildHeadEquations1D_ss(dx,nx,K,head,flow,ibound)\n",
    "        if (state=='t'):\n",
    "            matrix,rhs = libGROWAT1D.buildHeadEquations1D_t(dx,nx,time_step,K,S,head,headOld,flow,flowOld,ibound)\n",
    "        #print('Sparse CSR matrix: ',sys.getsizeof(matrix),' bytes')\n",
    "        # sparse matrix solver for system of equations\n",
    "        head = libGROWAT1D.solveHeadEquations1D(matrix,rhs)\n",
    "        # calculate velocities\n",
    "        xc,vcx = libGROWAT1D.solveVelocities1D(nx,time_scale,X,K,head)\n",
    "        vabs = np.sqrt(vcx**2)\n",
    "        # control output to screen\n",
    "        if (saved[0]=='s'): libGROWAT1D.saveToScreen1D(saved,time,time_scale,head,vabs) \n",
    "        # save to file\n",
    "        if (saved[1]=='a'): libGROWAT1D.saveHeadsAndVelocities1D(itime,time,time_scale,whichtime,X,head,flow,xc,vcx,ibound,irecharge)\n",
    "        # plot to file\n",
    "        if (saved[2]=='v'): libGROWAT1D.plotHeadsAndVelocities1D(itime,time,time_scale,X,xc,head,vcx,ibound,irecharge,vmin=0.4,vmax=4.4)  \n",
    "        time += time_step\n",
    "        itime += 1\n",
    "    return"
   ]
  },
  {
   "cell_type": "code",
   "execution_count": 5,
   "id": "c3760a6d-7f5b-4424-b98b-ff12dd3d91af",
   "metadata": {
    "tags": []
   },
   "outputs": [
    {
     "name": "stdout",
     "output_type": "stream",
     "text": [
      "== GROWAT1D ==\n",
      "      xmin,xmax [m]:       0.00    2000.00\n",
      "                 nx:         41\n",
      "    time_start[day]:       0.00\n",
      "      time_end[day]:     150.00\n",
      "     time_step[day]:       2.00\n",
      "          whichtime: day\n",
      "                 BC: [  3.      0.     40.     50.    150.      0.822]\n",
      "                 BC: [  4.  20.  20. 100. 150.  -1.]\n",
      "                 BC: [  1.   1.   1.   0. 150.   1.]\n",
      "                 BC: [  2.  39.  39.   0. 150.   3.]\n",
      "          Materials: ['Soil1' '1000' '2000' '3e-3' '1e-2']\n",
      "          Materials: ['Soil2' '1000' '2000' '4e-3' '1e-3']\n",
      "    X.min,X.max [m]:       0.00    2000.00\n",
      "  K.min,K.max [m/s]:   0.003000   0.004000\n",
      "  S.min,S.max [1/s]:   0.001000   0.010000\n",
      "snv t:         0 h:      nan +/-      nan      nan -      nan v:      nan -      nan\n",
      "snv t:         2 h:      nan +/-      nan      nan -      nan v:      nan -      nan\n"
     ]
    },
    {
     "name": "stderr",
     "output_type": "stream",
     "text": [
      "/opt/miniconda3/envs/python_pygimli/lib/python3.11/site-packages/scipy/sparse/linalg/_dsolve/linsolve.py:276: MatrixRankWarning: Matrix is exactly singular\n",
      "  warn(\"Matrix is exactly singular\", MatrixRankWarning)\n"
     ]
    },
    {
     "name": "stdout",
     "output_type": "stream",
     "text": [
      "snv t:         4 h:      nan +/-      nan      nan -      nan v:      nan -      nan\n",
      "snv t:         6 h:      nan +/-      nan      nan -      nan v:      nan -      nan\n",
      "snv t:         8 h:      nan +/-      nan      nan -      nan v:      nan -      nan\n",
      "snv t:        10 h:      nan +/-      nan      nan -      nan v:      nan -      nan\n",
      "snv t:        12 h:      nan +/-      nan      nan -      nan v:      nan -      nan\n",
      "snv t:        14 h:      nan +/-      nan      nan -      nan v:      nan -      nan\n",
      "snv t:        16 h:      nan +/-      nan      nan -      nan v:      nan -      nan\n",
      "snv t:        18 h:      nan +/-      nan      nan -      nan v:      nan -      nan\n",
      "snv t:        20 h:      nan +/-      nan      nan -      nan v:      nan -      nan\n",
      "snv t:        22 h:      nan +/-      nan      nan -      nan v:      nan -      nan\n",
      "snv t:        24 h:      nan +/-      nan      nan -      nan v:      nan -      nan\n",
      "snv t:        26 h:      nan +/-      nan      nan -      nan v:      nan -      nan\n",
      "snv t:        28 h:      nan +/-      nan      nan -      nan v:      nan -      nan\n",
      "snv t:        30 h:      nan +/-      nan      nan -      nan v:      nan -      nan\n",
      "snv t:        32 h:      nan +/-      nan      nan -      nan v:      nan -      nan\n",
      "snv t:        34 h:      nan +/-      nan      nan -      nan v:      nan -      nan\n",
      "snv t:        36 h:      nan +/-      nan      nan -      nan v:      nan -      nan\n",
      "snv t:        38 h:      nan +/-      nan      nan -      nan v:      nan -      nan\n",
      "snv t:        40 h:      nan +/-      nan      nan -      nan v:      nan -      nan\n",
      "snv t:        42 h:      nan +/-      nan      nan -      nan v:      nan -      nan\n",
      "snv t:        44 h:      nan +/-      nan      nan -      nan v:      nan -      nan\n",
      "snv t:        46 h:      nan +/-      nan      nan -      nan v:      nan -      nan\n",
      "snv t:        48 h:      nan +/-      nan      nan -      nan v:      nan -      nan\n",
      "snv t:        50 h:      nan +/-      nan      nan -      nan v:      nan -      nan\n",
      "snv t:        52 h:      nan +/-      nan      nan -      nan v:      nan -      nan\n",
      "snv t:        54 h:      nan +/-      nan      nan -      nan v:      nan -      nan\n",
      "snv t:        56 h:      nan +/-      nan      nan -      nan v:      nan -      nan\n",
      "snv t:        58 h:      nan +/-      nan      nan -      nan v:      nan -      nan\n",
      "snv t:        60 h:      nan +/-      nan      nan -      nan v:      nan -      nan\n",
      "snv t:        62 h:      nan +/-      nan      nan -      nan v:      nan -      nan\n",
      "snv t:        64 h:      nan +/-      nan      nan -      nan v:      nan -      nan\n",
      "snv t:        66 h:      nan +/-      nan      nan -      nan v:      nan -      nan\n",
      "snv t:        68 h:      nan +/-      nan      nan -      nan v:      nan -      nan\n",
      "snv t:        70 h:      nan +/-      nan      nan -      nan v:      nan -      nan\n",
      "snv t:        72 h:      nan +/-      nan      nan -      nan v:      nan -      nan\n",
      "snv t:        74 h:      nan +/-      nan      nan -      nan v:      nan -      nan\n",
      "snv t:        76 h:      nan +/-      nan      nan -      nan v:      nan -      nan\n",
      "snv t:        78 h:      nan +/-      nan      nan -      nan v:      nan -      nan\n",
      "snv t:        80 h:      nan +/-      nan      nan -      nan v:      nan -      nan\n",
      "snv t:        82 h:      nan +/-      nan      nan -      nan v:      nan -      nan\n",
      "snv t:        84 h:      nan +/-      nan      nan -      nan v:      nan -      nan\n",
      "snv t:        86 h:      nan +/-      nan      nan -      nan v:      nan -      nan\n",
      "snv t:        88 h:      nan +/-      nan      nan -      nan v:      nan -      nan\n",
      "snv t:        90 h:      nan +/-      nan      nan -      nan v:      nan -      nan\n",
      "snv t:        92 h:      nan +/-      nan      nan -      nan v:      nan -      nan\n",
      "snv t:        94 h:      nan +/-      nan      nan -      nan v:      nan -      nan\n",
      "snv t:        96 h:      nan +/-      nan      nan -      nan v:      nan -      nan\n",
      "snv t:        98 h:      nan +/-      nan      nan -      nan v:      nan -      nan\n",
      "snv t:       100 h:      nan +/-      nan      nan -      nan v:      nan -      nan\n",
      "snv t:       102 h:      nan +/-      nan      nan -      nan v:      nan -      nan\n",
      "snv t:       104 h:      nan +/-      nan      nan -      nan v:      nan -      nan\n",
      "snv t:       106 h:      nan +/-      nan      nan -      nan v:      nan -      nan\n",
      "snv t:       108 h:      nan +/-      nan      nan -      nan v:      nan -      nan\n",
      "snv t:       110 h:      nan +/-      nan      nan -      nan v:      nan -      nan\n",
      "snv t:       112 h:      nan +/-      nan      nan -      nan v:      nan -      nan\n",
      "snv t:       114 h:      nan +/-      nan      nan -      nan v:      nan -      nan\n",
      "snv t:       116 h:      nan +/-      nan      nan -      nan v:      nan -      nan\n",
      "snv t:       118 h:      nan +/-      nan      nan -      nan v:      nan -      nan\n",
      "snv t:       120 h:      nan +/-      nan      nan -      nan v:      nan -      nan\n",
      "snv t:       122 h:      nan +/-      nan      nan -      nan v:      nan -      nan\n",
      "snv t:       124 h:      nan +/-      nan      nan -      nan v:      nan -      nan\n",
      "snv t:       126 h:      nan +/-      nan      nan -      nan v:      nan -      nan\n",
      "snv t:       128 h:      nan +/-      nan      nan -      nan v:      nan -      nan\n",
      "snv t:       130 h:      nan +/-      nan      nan -      nan v:      nan -      nan\n",
      "snv t:       132 h:      nan +/-      nan      nan -      nan v:      nan -      nan\n",
      "snv t:       134 h:      nan +/-      nan      nan -      nan v:      nan -      nan\n",
      "snv t:       136 h:      nan +/-      nan      nan -      nan v:      nan -      nan\n",
      "snv t:       138 h:      nan +/-      nan      nan -      nan v:      nan -      nan\n",
      "snv t:       140 h:      nan +/-      nan      nan -      nan v:      nan -      nan\n",
      "snv t:       142 h:      nan +/-      nan      nan -      nan v:      nan -      nan\n",
      "snv t:       144 h:      nan +/-      nan      nan -      nan v:      nan -      nan\n",
      "snv t:       146 h:      nan +/-      nan      nan -      nan v:      nan -      nan\n",
      "snv t:       148 h:      nan +/-      nan      nan -      nan v:      nan -      nan\n",
      "snv t:       150 h:      nan +/-      nan      nan -      nan v:      nan -      nan\n"
     ]
    }
   ],
   "source": [
    "pyGROWAT1D(state='ss',saved='snv')"
   ]
  },
  {
   "cell_type": "markdown",
   "id": "a56576ed-6baa-4bf7-9a91-69adf1722335",
   "metadata": {},
   "source": [
    "----"
   ]
  }
 ],
 "metadata": {
  "kernelspec": {
   "display_name": "Python 3 (ipykernel)",
   "language": "python",
   "name": "python3"
  },
  "language_info": {
   "codemirror_mode": {
    "name": "ipython",
    "version": 3
   },
   "file_extension": ".py",
   "mimetype": "text/x-python",
   "name": "python",
   "nbconvert_exporter": "python",
   "pygments_lexer": "ipython3",
   "version": "3.11.3"
  }
 },
 "nbformat": 4,
 "nbformat_minor": 5
}

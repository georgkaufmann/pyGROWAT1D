{
 "cells": [
  {
   "cell_type": "code",
   "execution_count": 1,
   "id": "9fd7ac7e-9c2b-40dc-bc90-f11043498e03",
   "metadata": {
    "tags": []
   },
   "outputs": [],
   "source": [
    "import libGROWAT1D"
   ]
  },
  {
   "cell_type": "code",
   "execution_count": 2,
   "id": "493b63fb-095c-497c-a00e-9fdae9d44b75",
   "metadata": {
    "tags": []
   },
   "outputs": [
    {
     "name": "stdout",
     "output_type": "stream",
     "text": [
      "Help on function readParameter1D in module libGROWAT1D:\n",
      "\n",
      "readParameter1D(infile='GROWAT1D_parameter.in', path='work/', control=False)\n",
      "    ! read GROWAT1D parameter file\n",
      "    ! input:\n",
      "    !  (from file infile)\n",
      "    ! output:\n",
      "    !  xmin,xmax,nx         - min/max for x coordinate [m], discretisation\n",
      "    !  whichtime            - flag for time units used\n",
      "    !  time_start,time_end  - start/end point for time scale [s]\n",
      "    !  time_step            - time step [s]\n",
      "    !  time_scale           - scaling coefficient for user time scale\n",
      "    ! use:\n",
      "    !  eastmin,eastmax,nx,time_start,time_end,time_step,time_scale,whichtime = libGROWAT1D.readParameter1D()\n",
      "    ! note:\n",
      "    ! file structure given!\n",
      "    ! uses readline(),variables come in as string,\n",
      "    ! must be separated and converted ...\n",
      "\n"
     ]
    }
   ],
   "source": [
    "help(libGROWAT1D.readParameter1D)"
   ]
  },
  {
   "cell_type": "code",
   "execution_count": null,
   "id": "1fd90b68-5564-48aa-8719-0852b71d4a68",
   "metadata": {},
   "outputs": [],
   "source": []
  }
 ],
 "metadata": {
  "kernelspec": {
   "display_name": "Python 3 (ipykernel)",
   "language": "python",
   "name": "python3"
  },
  "language_info": {
   "codemirror_mode": {
    "name": "ipython",
    "version": 3
   },
   "file_extension": ".py",
   "mimetype": "text/x-python",
   "name": "python",
   "nbconvert_exporter": "python",
   "pygments_lexer": "ipython3",
   "version": "3.11.3"
  }
 },
 "nbformat": 4,
 "nbformat_minor": 5
}

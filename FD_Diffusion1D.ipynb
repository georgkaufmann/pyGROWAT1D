{
 "cells": [
  {
   "cell_type": "markdown",
   "id": "9766f78c",
   "metadata": {},
   "source": [
    "<table>\n",
    "<tr><td><img style=\"height: 150px;\" src=\"images/geo_hydro1.jpg\"></td>\n",
    "<td bgcolor=\"#FFFFFF\">\n",
    "    <p style=\"font-size: xx-large; font-weight: 900; line-height: 100%\">pyGROWAT1D</p>\n",
    "    <p style=\"font-size: large; color: rgba(0,0,0,0.5);\"><b style=color:red;>GRO</b>und<b style=color:red;>WAT</b>er</p>\n",
    "    <p style=\"font-size: large; color: rgba(0,0,0,0.5);\">Georg Kaufmann</p>\n",
    "    </td>\n",
    "<td><img style=\"height: 150px;\" src=\"images/pyGROWAT1D.png\"></td>\n",
    "</tr>\n",
    "</table>\n",
    "\n",
    "----\n",
    "# `pyGROWAT1D`\n",
    "\n",
    "GROundWATer1D, a program package for  flow in porous rocks."
   ]
  },
  {
   "cell_type": "markdown",
   "id": "fbfa38f3",
   "metadata": {},
   "source": [
    "# Finite differences \n",
    "## Diffusion equation in 1D\n",
    "----\n",
    "*Georg Kaufmann,\n",
    "Geophysics Section,\n",
    "Institute of Geological Sciences,\n",
    "Freie Universität Berlin,\n",
    "Germany*"
   ]
  },
  {
   "cell_type": "markdown",
   "id": "78d858ba",
   "metadata": {},
   "source": [
    "----\n",
    "In this notebook, we solve a simple **transient advection equation** in one dimension,\n",
    "using different numerical methods."
   ]
  },
  {
   "cell_type": "code",
   "execution_count": 1,
   "id": "94ade1f7",
   "metadata": {},
   "outputs": [],
   "source": [
    "import numpy as np\n",
    "import matplotlib.pyplot as plt"
   ]
  },
  {
   "cell_type": "markdown",
   "id": "71261134-b4bd-4f27-a14a-f6b09484ace3",
   "metadata": {},
   "source": [
    "The general advection-diffusion-reacton equation reads:\n",
    "$$\\fbox{$\n",
    "\\frac{\\partial c}{\\partial t}\n",
    "= - v \\cdot \\nabla c\n",
    "+ \\nabla D \\nabla c\n",
    "+ R\n",
    "$}$$\n",
    "with\n",
    "$c$ [mol/m$^3$] concentration,\n",
    "$x,y,z$ [m] position,\n",
    "$t$ [s] time,\n",
    "$v$ [m/s] the velocity, \n",
    "$D$ [m$^2$/s] diffusion, \n",
    "$R$ [mol/m$^3$/s] reaction,\n",
    "$\\nabla$ [1/m] Nabla operator.\n",
    "\n",
    "The term on the left-hand side is the temporal change of $c$,\n",
    "the terms on the right-hand sides are\n",
    "- advection\n",
    "- diffusion\n",
    "- reaction"
   ]
  },
  {
   "cell_type": "markdown",
   "id": "d9b81bd9",
   "metadata": {},
   "source": [
    "----\n",
    "## Diffusion\n",
    "\n",
    "We start defining the transient diffusion equation for the concentration $c(x,t)$:\n",
    "$$\n",
    "\\fbox{$\n",
    "\\frac{\\partial c(x,t)}{\\partial t} - D \\frac{d^2c}{dx^2} = 0\n",
    "$}\n",
    "$$\n",
    "\n",
    "The transient diffusion equation is a **hyperbolic partial differential equation**, which has a unique\n",
    "solution for the **initial condition**:\n",
    "$$\n",
    "c(x,t=0) = c_0(x,0)\n",
    "$$"
   ]
  },
  {
   "cell_type": "markdown",
   "id": "0b5a14ee",
   "metadata": {},
   "source": [
    "----\n",
    "## Initial condition\n",
    "\n",
    "We define the `Gaussian` function with mean $\\mu$ and standard deviation $\\sigma$\n",
    "as initial condition:\n",
    "$$\n",
    "c(x) = e^{-\\frac{(x-\\mu)^2}{\\sigma^2}}\n",
    "$$\n",
    "which is a solution of the transient advection equation."
   ]
  },
  {
   "cell_type": "code",
   "execution_count": 2,
   "id": "68ed28b0",
   "metadata": {},
   "outputs": [],
   "source": [
    "def pulse(x,mu=2.,sigma=1.,type='gauss'):\n",
    "    \"\"\"\n",
    "    Initial pulse function centered at mu and having standard with sigma\n",
    "    \"\"\"\n",
    "    if (type=='gauss'): \n",
    "        f = np.exp(-(x-mu)**2/(sigma)**2)\n",
    "    if (type=='rect'):\n",
    "        f = np.zeros_like(x)\n",
    "        f[(x >= mu-sigma) & (x <= mu+sigma)] = 1\n",
    "    return f"
   ]
  },
  {
   "cell_type": "code",
   "execution_count": 3,
   "id": "d683871e",
   "metadata": {},
   "outputs": [
    {
     "name": "stdout",
     "output_type": "stream",
     "text": [
      "0.1\n"
     ]
    }
   ],
   "source": [
    "xstep = 121\n",
    "x,dx = np.linspace(0,12,xstep,retstep=True)   # m\n",
    "print(dx)"
   ]
  },
  {
   "cell_type": "code",
   "execution_count": 4,
   "id": "31ec5eef",
   "metadata": {},
   "outputs": [
    {
     "data": {
      "text/plain": [
       "<matplotlib.legend.Legend at 0x117d115d0>"
      ]
     },
     "execution_count": 4,
     "metadata": {},
     "output_type": "execute_result"
    },
    {
     "data": {
      "image/png": "[encoded data removed]",
      "text/plain": [
       "<Figure size 1000x600 with 1 Axes>"
      ]
     },
     "metadata": {},
     "output_type": "display_data"
    }
   ],
   "source": [
    "c0 = pulse(x)\n",
    "\n",
    "plt.figure(figsize=(10,6))\n",
    "plt.xlabel('x [m]')\n",
    "plt.ylabel('c')\n",
    "plt.grid(alpha=0.3)\n",
    "plt.fill_between(x,c0,0,label='t = 0 s',linewidth=2,edgecolor=(0,0.2,1,1.0), facecolor=(0,0.2,1,.2))\n",
    "plt.legend()"
   ]
  },
  {
   "cell_type": "markdown",
   "id": "c611976d",
   "metadata": {},
   "source": [
    "----\n",
    "## Numerical solution methods\n",
    "\n",
    "Next, we derive several numerical methods, which can be used to solve the transient diffusion equation.\n",
    "We first need to assign the temporal and spatial time steps, $\\Delta t$ [s] and $\\Delta x$ [m], \n",
    "and the velocity $c$ [m/s]:"
   ]
  },
  {
   "cell_type": "markdown",
   "id": "cbcabffb",
   "metadata": {},
   "source": [
    "Thus we have discretised both spatial and temporal variables:\n",
    "$$\n",
    "\\begin{array}{rcl}\n",
    "t_n &=& t_0 + n \\Delta t, \\quad n=0,N \\\\\n",
    "x_i &=& x_0 + i \\Delta x, \\quad i=0,I\n",
    "\\end{array}\n",
    "$$"
   ]
  },
  {
   "cell_type": "markdown",
   "id": "d255e5ba",
   "metadata": {},
   "source": [
    "The **diffusive Courant-Friedrich-Levi criterion**, also called *diffusive Courant number*, is defined as\n",
    "$$\n",
    "Co^d = \\frac{D \\Delta t}{\\Delta x^2}\n",
    "$$\n",
    "defines the stability of the numerical solutions. Explicit solutions are stable\n",
    "for $Co^d <1$.\n",
    "\n",
    "We solve for the time increment:\n",
    "$$\n",
    "\\Delta t < \\frac{\\Delta x^2}{D}\n",
    "$$\n",
    "\n",
    "For a given velocity $D$, the time steps can  be defined:"
   ]
  },
  {
   "cell_type": "code",
   "execution_count": 5,
   "id": "ba0ccdce",
   "metadata": {},
   "outputs": [
    {
     "name": "stdout",
     "output_type": "stream",
     "text": [
      "Courant time step:  0.03333333333333334\n",
      "Courant time step with safety margin:  0.006666666666666668\n"
     ]
    }
   ],
   "source": [
    "v  = 0.0   # m/s\n",
    "D  = 0.3   # m2/s\n",
    "\n",
    "dtDiff = dx**2/D\n",
    "print ('Courant time step: ',dtDiff)\n",
    "safety = 0.2\n",
    "dtDiff *= safety\n",
    "print ('Courant time step with safety margin: ',dtDiff)"
   ]
  },
  {
   "cell_type": "code",
   "execution_count": 6,
   "id": "b210f4c5",
   "metadata": {},
   "outputs": [],
   "source": [
    "timeStart = 0.\n",
    "timeEnd   = 5.\n",
    "timeStep  = dtDiff\n",
    "timeWrite = 1."
   ]
  },
  {
   "cell_type": "markdown",
   "id": "a61befd5",
   "metadata": {},
   "source": [
    "----\n",
    "## FTCS scheme (forward time centered space)\n",
    "\n",
    "Our first scheme is called `FTCS`, forward time, centered space, thus the derivatives in the\n",
    "transient advection equations are replaced by **forward differences in time** and \n",
    "**central differences is space**:\n",
    "$$\n",
    "\\frac{c_{i}^{n+1}-c_{i}^{n}}{\\Delta t}\n",
    "=\n",
    "D \\frac{c_{i+1}^{n}-2 c_{i}^{n} + c_{i-1}^{n}}{\\Delta x^2}\n",
    "$$\n",
    "or solved for the next time step\n",
    "$$\n",
    "c_{i}^{n+1}\n",
    "=\n",
    "\\left( 1-2\\alpha \\right) c_{i}^{n} \n",
    "+ \\alpha \\left( c_{i+1}^{n} + c_{i-1}^{n} \\right)\n",
    "$$\n",
    "with\n",
    "$$\n",
    "\\alpha = D \\frac{\\Delta t}{\\Delta x^2}\n",
    "$$\n",
    "<img src=\"images/PDE_FTCS.jpg\" style=\"height:5cm;\">\n",
    "\n",
    "We implement the FTCS method:"
   ]
  },
  {
   "cell_type": "code",
   "execution_count": 7,
   "id": "3cb292a7-55f1-4f96-98f8-b8507281d285",
   "metadata": {
    "tags": []
   },
   "outputs": [],
   "source": [
    "def FD_Diffusion1D(c,dx,dt,D):\n",
    "    \"\"\"\n",
    "    1D diffusion operator\n",
    "    FTCS forward time centered space\n",
    "    \"\"\"\n",
    "    nx = c.shape[0]\n",
    "    cold = c\n",
    "    alpha = D*dt/(dx**2)\n",
    "    for i in range(nx):\n",
    "        if (i != 0 and i != nx-1):\n",
    "            c[i] = (1-2*alpha)*cold[i] + alpha*(cold[i+1]+cold[i-1])\n",
    "        else:\n",
    "            c[i] = cold[i]\n",
    "    return c"
   ]
  },
  {
   "cell_type": "code",
   "execution_count": 9,
   "id": "b06af07e-2568-4457-ba65-993ce7a26c90",
   "metadata": {
    "tags": []
   },
   "outputs": [],
   "source": [
    "# initial conditions\n",
    "time = timeStart\n",
    "c    = pulse(x,mu=6)\n",
    "c0  = np.copy(c)\n",
    "\n",
    "# time loop\n",
    "while (time < timeEnd):\n",
    "    time += timeStep\n",
    "    c = FD_Diffusion1D(c,dx,timeStep,D)"
   ]
  },
  {
   "cell_type": "code",
   "execution_count": 10,
   "id": "92492b3d-9059-4f7d-914c-7c58b4251c9c",
   "metadata": {
    "tags": []
   },
   "outputs": [
    {
     "data": {
      "text/plain": [
       "<matplotlib.legend.Legend at 0x122320a90>"
      ]
     },
     "execution_count": 10,
     "metadata": {},
     "output_type": "execute_result"
    },
    {
     "data": {
      "image/png": "[encoded data removed]",
      "text/plain": [
       "<Figure size 1000x600 with 1 Axes>"
      ]
     },
     "metadata": {},
     "output_type": "display_data"
    }
   ],
   "source": [
    "# plot initial condition and last time step\n",
    "plt.figure(figsize=(10,6))\n",
    "plt.title('FTCS diffusion')\n",
    "plt.xlabel('x [m]')\n",
    "plt.ylabel('c')\n",
    "plt.grid(alpha=0.3)\n",
    "plt.plot(x,c0,label='t = 0 s',linewidth=2,color=(0.5,0.5,0.5,1.0))\n",
    "plt.fill_between(x,c,lw=3,edgecolor=(1,0,0,0.5), facecolor=(1,0,0,0.2),label='t = '+str(round(time,1))+' s')\n",
    "plt.legend()"
   ]
  },
  {
   "cell_type": "markdown",
   "id": "107c7614",
   "metadata": {},
   "source": [
    "----"
   ]
  }
 ],
 "metadata": {
  "kernelspec": {
   "display_name": "Python 3 (ipykernel)",
   "language": "python",
   "name": "python3"
  },
  "language_info": {
   "codemirror_mode": {
    "name": "ipython",
    "version": 3
   },
   "file_extension": ".py",
   "mimetype": "text/x-python",
   "name": "python",
   "nbconvert_exporter": "python",
   "pygments_lexer": "ipython3",
   "version": "3.11.3"
  }
 },
 "nbformat": 4,
 "nbformat_minor": 5
}

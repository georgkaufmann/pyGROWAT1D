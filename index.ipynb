{
 "cells": [
  {
   "cell_type": "markdown",
   "id": "383108c6",
   "metadata": {},
   "source": [
    "<table>\n",
    "<tr><td><img style=\"height: 150px;\" src=\"images/geo_hydro1.jpg\"></td>\n",
    "<td bgcolor=\"#FFFFFF\">\n",
    "    <p style=\"font-size: xx-large; font-weight: 900; line-height: 100%\">pyGROWAT1D</p>\n",
    "    <p style=\"font-size: large; color: rgba(0,0,0,0.5);\"><b style=color:red;>GRO</b>und<b style=color:red;>WAT</b>er</p>\n",
    "    <p style=\"font-size: large; color: rgba(0,0,0,0.5);\">Georg Kaufmann</p>\n",
    "    </td>\n",
    "<td><img style=\"height: 150px;\" src=\"images/pyGROWAT1D.png\"></td>\n",
    "</tr>\n",
    "</table>\n",
    "\n",
    "----\n",
    "# `pyGROWAT1D`\n",
    "\n",
    "GROundWATer1D, a program package for flow in porous rocks."
   ]
  },
  {
   "cell_type": "markdown",
   "id": "fea533e9",
   "metadata": {},
   "source": [
    "----\n",
    "## Contents\n",
    "\n",
    "- Basics\n",
    "    - [Introduction](GROWAT1D_introduction.ipynb)\n",
    "    - [Theory](GROWAT1D_theory.ipynb)\n",
    "    - [Numerical implementation](GROWAT1D_numerics.ipynb)\n",
    "\n",
    "- Numerical derivatives in 1D\n",
    "    - Explicit scheme\n",
    "        - [Advection](FD_Advection1D.ipynb)\n",
    "        - [Diffusion](FD_Diffusion1D.ipynb)\n",
    "        - [Reaction](FD_Reaction1D.ipynb)\n",
    "        - [Advection,Diffusion,Reaction](FD_AdvDiffReact1D.ipynb)\n",
    "        - [... considering boundary conditions](FD_AdvDiffReact1D_BC.ipynb)\n",
    "    - Implicit scheme\n",
    "\n",
    "- Setup groundwater model\n",
    "    - [Flow chart](GROWAT1D_flowchart.ipynb)\n",
    "    - [Read](GROWAT1D_read.ipynb)\n",
    "    - [Create](GROWAT1D_create.ipynb)\n",
    "    - [Solve](GROWAT1D_solve.ipynb)\n",
    "    - []()\n",
    "    \n",
    "- Run groundwater model\n",
    "    - [Example run](GROWAT1D_run.ipynb)\n",
    "    \n",
    "- Other\n",
    "    - Libraries\n",
    "        - [libGROWAT1D](libGROWAT1D.ipynb)\n",
    "    - Linear system of equations\n",
    "        - [Matrix solver](GROWAT1D_MatrixSolver.ipynb)"
   ]
  },
  {
   "cell_type": "markdown",
   "id": "b9ee8777",
   "metadata": {},
   "source": [
    "----"
   ]
  }
 ],
 "metadata": {
  "kernelspec": {
   "display_name": "Python 3 (ipykernel)",
   "language": "python",
   "name": "python3"
  },
  "language_info": {
   "codemirror_mode": {
    "name": "ipython",
    "version": 3
   },
   "file_extension": ".py",
   "mimetype": "text/x-python",
   "name": "python",
   "nbconvert_exporter": "python",
   "pygments_lexer": "ipython3",
   "version": "3.11.3"
  }
 },
 "nbformat": 4,
 "nbformat_minor": 5
}

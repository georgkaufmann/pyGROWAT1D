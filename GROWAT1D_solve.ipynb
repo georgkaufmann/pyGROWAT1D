{
 "cells": [
  {
   "cell_type": "markdown",
   "id": "fd598e49-059f-4fed-be10-674cdc08215e",
   "metadata": {},
   "source": [
    "<table>\n",
    "<tr><td><img style=\"height: 150px;\" src=\"images/geo_hydro1.jpg\"></td>\n",
    "<td bgcolor=\"#FFFFFF\">\n",
    "    <p style=\"font-size: xx-large; font-weight: 900; line-height: 100%\">pyGROWAT1D</p>\n",
    "    <p style=\"font-size: large; color: rgba(0,0,0,0.5);\"><b style=color:red;>GRO</b>und<b style=color:red;>WAT</b>er</p>\n",
    "    <p style=\"font-size: large; color: rgba(0,0,0,0.5);\">Georg Kaufmann</p>\n",
    "    </td>\n",
    "<td><img style=\"height: 150px;\" src=\"images/pyGROWAT1D.png\"></td>\n",
    "</tr>\n",
    "</table>\n",
    "\n",
    "----\n",
    "# `pyGROWAT1D`\n",
    "\n",
    "GROundWATer1D, a program package for  flow in porous rocks."
   ]
  },
  {
   "cell_type": "code",
   "execution_count": 1,
   "id": "b284100b-55fd-4cee-b770-374a711e49e0",
   "metadata": {
    "tags": []
   },
   "outputs": [],
   "source": [
    "import libGROWAT1D"
   ]
  },
  {
   "cell_type": "markdown",
   "id": "f9a2d9c2-2a3e-4702-ab07-c10bead4dfbb",
   "metadata": {},
   "source": [
    "----\n",
    "# Solve for heads and velocities of `pyGROWAT1D`\n",
    "\n",
    "----\n",
    "## `buildBC1D()`\n",
    "\n",
    "This function is called first during the solution process.\n",
    "\n",
    "It sets all **fixed-head nodes** with their appropriate values, using the `xbound` array and setting the\n",
    "head values in the `head` array, if the boundary node is active (`t1,t2`).\n",
    "\n",
    "It then creates a flow array `flow`, setting it initially to zero, then replacing nodes\n",
    "with the **fixed-sink** and **fixed recharge** boundary condition flags, if the boundary node is active (`t1,t2`),\n",
    "to their appropriate values."
   ]
  },
  {
   "cell_type": "code",
   "execution_count": 2,
   "id": "af6397ae-1650-44f1-82e6-d4896b85f7cf",
   "metadata": {
    "tags": []
   },
   "outputs": [
    {
     "name": "stdout",
     "output_type": "stream",
     "text": [
      "Help on function buildBC1D in module libGROWAT1D:\n",
      "\n",
      "buildBC1D(nx, dx, ibound, irecharge, xbound, time, time_scale, head, flow, control=False)\n",
      "    !  ibound(i)   - boundary flag for node i\n",
      "    !            0 - unknown head\n",
      "    !            1 - fixed resurgence\n",
      "    !            2 - fixed head\n",
      "    !            3 - fixed recharge\n",
      "    !            4 - fixed sink\n",
      "    ! use:\n",
      "    !  head,flow = libGROWAT1D.buildBC1D(nx,dx,ibound,irecharge,xbound,time,time_scale,head,flow)\n",
      "\n"
     ]
    }
   ],
   "source": [
    "help(libGROWAT1D.buildBC1D)"
   ]
  },
  {
   "cell_type": "markdown",
   "id": "3eef5499-8ad3-4ab7-8304-5f1757d792a4",
   "metadata": {},
   "source": [
    "----\n",
    "## `buildHeadEquations1D_ss()`\n",
    "\n",
    "## `buildHeadEquations1D_t()`\n",
    "Same, but for transient solution."
   ]
  },
  {
   "cell_type": "code",
   "execution_count": 5,
   "id": "76388ea1-e6d0-4763-89f2-96a6080e1efc",
   "metadata": {
    "tags": []
   },
   "outputs": [
    {
     "name": "stdout",
     "output_type": "stream",
     "text": [
      "Help on function buildHeadEquations1D_ss in module libGROWAT1D:\n",
      "\n",
      "buildHeadEquations1D_ss(dx, nx, conductm, head, flow, ibound)\n",
      "    ! function assembles the element entries for the global conductance\n",
      "    ! matrix and the rhs vector for the steady-stae case\n",
      "    ! input:\n",
      "    ! output:\n",
      "    !  matrix(i,j)  - global conductivity matrix (sparse)\n",
      "    !  rhs(i)       -  rhs vector\n",
      "    ! subroutines called:\n",
      "    !  none\n",
      "    !\n",
      "    ! written by Georg Kaufmann 22/12/2023\n",
      "\n"
     ]
    }
   ],
   "source": [
    "help(libGROWAT1D.buildHeadEquations1D_ss)"
   ]
  },
  {
   "cell_type": "markdown",
   "id": "732daea1-c8f0-4786-8b1f-9e645d2414c7",
   "metadata": {},
   "source": [
    "----\n",
    "## `solveHeadEquations1D()`\n",
    "\n",
    "In this function, "
   ]
  },
  {
   "cell_type": "code",
   "execution_count": 6,
   "id": "3b97772c-907e-4a5d-8202-2c2464dcfbeb",
   "metadata": {
    "tags": []
   },
   "outputs": [
    {
     "name": "stdout",
     "output_type": "stream",
     "text": [
      "Help on function solveHeadEquations1D in module libGROWAT1D:\n",
      "\n",
      "solveHeadEquations1D(matrix, rhs)\n",
      "    ! Solve linear system of equations\n",
      "    ! with sparse matrix solver\n",
      "\n"
     ]
    }
   ],
   "source": [
    "help(libGROWAT1D.solveHeadEquations1D)"
   ]
  },
  {
   "cell_type": "markdown",
   "id": "3cf833ba-c6a1-4115-973a-1e04f88c20b0",
   "metadata": {},
   "source": [
    "----"
   ]
  }
 ],
 "metadata": {
  "kernelspec": {
   "display_name": "Python 3 (ipykernel)",
   "language": "python",
   "name": "python3"
  },
  "language_info": {
   "codemirror_mode": {
    "name": "ipython",
    "version": 3
   },
   "file_extension": ".py",
   "mimetype": "text/x-python",
   "name": "python",
   "nbconvert_exporter": "python",
   "pygments_lexer": "ipython3",
   "version": "3.11.3"
  }
 },
 "nbformat": 4,
 "nbformat_minor": 5
}

{
 "cells": [
  {
   "cell_type": "markdown",
   "id": "fd598e49-059f-4fed-be10-674cdc08215e",
   "metadata": {},
   "source": [
    "<table>\n",
    "<tr><td><img style=\"height: 150px;\" src=\"images/geo_hydro1.jpg\"></td>\n",
    "<td bgcolor=\"#FFFFFF\">\n",
    "    <p style=\"font-size: xx-large; font-weight: 900; line-height: 100%\">pyGROWAT1D</p>\n",
    "    <p style=\"font-size: large; color: rgba(0,0,0,0.5);\"><b style=color:red;>GRO</b>und<b style=color:red;>WAT</b>er</p>\n",
    "    <p style=\"font-size: large; color: rgba(0,0,0,0.5);\">Georg Kaufmann</p>\n",
    "    </td>\n",
    "<td><img style=\"height: 150px;\" src=\"images/pyGROWAT1D.png\"></td>\n",
    "</tr>\n",
    "</table>\n",
    "\n",
    "----\n",
    "# `pyGROWAT1D`\n",
    "\n",
    "GROundWATer1D, a program package for  flow in porous rocks."
   ]
  },
  {
   "cell_type": "code",
   "execution_count": 1,
   "id": "b284100b-55fd-4cee-b770-374a711e49e0",
   "metadata": {
    "tags": []
   },
   "outputs": [],
   "source": [
    "import libGROWAT1D"
   ]
  },
  {
   "cell_type": "markdown",
   "id": "f9a2d9c2-2a3e-4702-ab07-c10bead4dfbb",
   "metadata": {},
   "source": [
    "----\n",
    "# Solve for heads and velocities of `pyGROWAT1D`\n",
    "\n",
    "----\n",
    "## `buildBC1D()`\n",
    "\n",
    "This function is called first during the solution process.\n",
    "\n",
    "In this function, we extract the boundary conditions from the array `dataBC` read in from the `GROWAT1D_bc.in` file.\n",
    "\n",
    "We will use the `i1,i2` spatial counter and the `t1,t2` times to create two arrays:\n",
    "- `ibound(nx)`: marker for boundary conditions (0-no BC node, 1-fixed resurgence head, 2-fixed head, 4-fixed sink)\n",
    "- `irecharge(nx)`: marker for rain nodes (0-no rain, 3-rain node)\n",
    "\n",
    "These two arrays are marker for the specific bounday conditions.\n",
    "\n",
    "We then modify the **hydraulic head** and the **flow** fields to account for boundary conditions:\n",
    "\n",
    "- It sets all **fixed-head nodes** with their appropriate values, setting the\n",
    "head values in the `head` array, if the boundary node is active (`t1,t2`).\n",
    "\n",
    "- It then creates a flow array `flow`, setting it initially to zero, then replacing nodes\n",
    "with the **fixed-sink** and **fixed recharge** boundary condition flags, if the boundary node is active (`t1,t2`),\n",
    "to their appropriate values."
   ]
  },
  {
   "cell_type": "code",
   "execution_count": 2,
   "id": "af6397ae-1650-44f1-82e6-d4896b85f7cf",
   "metadata": {
    "tags": []
   },
   "outputs": [
    {
     "name": "stdout",
     "output_type": "stream",
     "text": [
      "Help on function buildHEADBC1D in module libGROWAT1D:\n",
      "\n",
      "buildHEADBC1D(dataBC, dx, time, time_scale, head, flow, control=False)\n",
      "    ! set nodes marked with boundary conditions for current time step\n",
      "    ! input:\n",
      "    !  dataBC      - array of boundary conditions\n",
      "    !  dx          - [m] spatial discretisation\n",
      "    !  time        - [s] current time\n",
      "    !  time_scale  - conversion to user-defined time unit\n",
      "    !  head        - hydraulic head field [m]\n",
      "    !  flow        - flow field [m3/s]\n",
      "    ! output:\n",
      "    !  ibound      - marker for boundary conditions\n",
      "    !  irecharge   - marker for rain boundary conditions\n",
      "    !  head        - updated hydraulic head field [m]\n",
      "    !  flow        - updated flow field [m3/s]\n",
      "    ! use:\n",
      "    !  ibound,irecharge,head,flow = libGROWAT1D.buildHEADBC1D(dataBC,dx,time,time_scale,head,flow)\n",
      "    ! notes:\n",
      "    !  ibound(i)   - boundary flag for node i\n",
      "    !            0 - unknown head\n",
      "    !            1 - fixed resurgence\n",
      "    !            2 - fixed head\n",
      "    !            3 - fixed recharge\n",
      "    !            4 - fixed sink\n",
      "\n"
     ]
    }
   ],
   "source": [
    "help(libGROWAT1D.buildHEADBC1D)"
   ]
  },
  {
   "cell_type": "markdown",
   "id": "3eef5499-8ad3-4ab7-8304-5f1757d792a4",
   "metadata": {},
   "source": [
    "----\n",
    "## `buildHeadEquations1D_ss()`\n",
    "\n",
    "## `buildHeadEquations1D_t()`\n",
    "Same, but for transient solution."
   ]
  },
  {
   "cell_type": "code",
   "execution_count": null,
   "id": "76388ea1-e6d0-4763-89f2-96a6080e1efc",
   "metadata": {
    "tags": []
   },
   "outputs": [],
   "source": [
    "help(libGROWAT1D.buildHeadEquations1D_ss)"
   ]
  },
  {
   "cell_type": "markdown",
   "id": "732daea1-c8f0-4786-8b1f-9e645d2414c7",
   "metadata": {},
   "source": [
    "----\n",
    "## `solveLinearSystem1D()`\n",
    "\n",
    "This function is simply a **wrapper** to the **sparse-matrix solver** from the `scipy.sparse` package."
   ]
  },
  {
   "cell_type": "code",
   "execution_count": 3,
   "id": "3b97772c-907e-4a5d-8202-2c2464dcfbeb",
   "metadata": {
    "tags": []
   },
   "outputs": [
    {
     "name": "stdout",
     "output_type": "stream",
     "text": [
      "Help on function solveLinearSystem1D in module libGROWAT1D:\n",
      "\n",
      "solveLinearSystem1D(matrix, rhs)\n",
      "    ! Solve linear system of equations\n",
      "    ! with sparse matrix solver\n",
      "    ! input:\n",
      "    !  matrix     - global conductivity matrix (sparse)\n",
      "    !  rhs        -  rhs vector\n",
      "    ! output:\n",
      "    !  head       - head [m] field\n",
      "    ! use:\n",
      "    !  head = libGROWAT1D.solveLinearSystem1D(matrix,rhs)\n",
      "\n"
     ]
    }
   ],
   "source": [
    "help(libGROWAT1D.solveLinearSystem1D)"
   ]
  },
  {
   "cell_type": "markdown",
   "id": "244ffbba-7db5-428f-9ac0-26924d597220",
   "metadata": {
    "tags": []
   },
   "source": [
    "----\n",
    "## `solveVelocities1D()`\n",
    "\n",
    "This function calculates the **flow velocities**, based on the calculation of the hydraulic heads from\n",
    "the solution of the linear system.\n",
    "\n",
    "The **Darcy law** is used to define velocity components."
   ]
  },
  {
   "cell_type": "code",
   "execution_count": 6,
   "id": "a3041ca6-df44-4bd5-84e8-0858d0ee7b69",
   "metadata": {
    "tags": []
   },
   "outputs": [
    {
     "name": "stdout",
     "output_type": "stream",
     "text": [
      "Help on function solveVelocities1D in module libGROWAT1D:\n",
      "\n",
      "solveVelocities1D(nx, time_scale, x, K, head)\n",
      "    ! function calculates velocity components in center of block\n",
      "    ! input:\n",
      "    !  nx                - coordinate increments\n",
      "    !  time_scale        - time scale to convert velocities to user timescale\n",
      "    !  x                 - x coordinate of node i\n",
      "    !  K                 - conductivity  of node i\n",
      "    !  head              - head of node i\n",
      "    ! output:\n",
      "    !  xc                - x coordinate of velocity node j\n",
      "    !  vcx               - x velocity component of velocity node j\n",
      "    ! use:\n",
      "    !  xc,vcx = libGROWAT1D.solveVelocities1D(nx,time_scale,x,K,head)\n",
      "\n"
     ]
    }
   ],
   "source": [
    "help(libGROWAT1D.solveVelocities1D)"
   ]
  },
  {
   "cell_type": "markdown",
   "id": "3cf833ba-c6a1-4115-973a-1e04f88c20b0",
   "metadata": {},
   "source": [
    "----"
   ]
  }
 ],
 "metadata": {
  "kernelspec": {
   "display_name": "Python 3 (ipykernel)",
   "language": "python",
   "name": "python3"
  },
  "language_info": {
   "codemirror_mode": {
    "name": "ipython",
    "version": 3
   },
   "file_extension": ".py",
   "mimetype": "text/x-python",
   "name": "python",
   "nbconvert_exporter": "python",
   "pygments_lexer": "ipython3",
   "version": "3.11.3"
  }
 },
 "nbformat": 4,
 "nbformat_minor": 5
}

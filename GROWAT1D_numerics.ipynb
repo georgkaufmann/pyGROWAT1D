{
 "cells": [
  {
   "cell_type": "markdown",
   "id": "383108c6",
   "metadata": {},
   "source": [
    "<table>\n",
    "<tr><td><img style=\"height: 150px;\" src=\"images/geo_hydro1.jpg\"></td>\n",
    "<td bgcolor=\"#FFFFFF\">\n",
    "    <p style=\"font-size: xx-large; font-weight: 900; line-height: 100%\">pyGROWAT1D</p>\n",
    "    <p style=\"font-size: large; color: rgba(0,0,0,0.5);\"><b style=color:red;>GRO</b>und<b style=color:red;>WAT</b>er</p>\n",
    "    <p style=\"font-size: large; color: rgba(0,0,0,0.5);\">Georg Kaufmann</p>\n",
    "    </td>\n",
    "<td><img style=\"height: 150px;\" src=\"images/pyGROWAT1D.png\"></td>\n",
    "</tr>\n",
    "</table>\n",
    "\n",
    "----\n",
    "# `pyGROWAT1D`\n",
    "\n",
    "GROundWATer1D, a program package for  flow in porous rocks."
   ]
  },
  {
   "cell_type": "markdown",
   "id": "fea533e9",
   "metadata": {},
   "source": [
    "----\n",
    "# Numerical implementation\n",
    "\n",
    "We implement the groundwater-flow equation based on a general form of an \n",
    "**advection-diffusion-reaction** equation, which in 3D can be formulated as:\n",
    "$$\n",
    "\\frac{\\partial c}{\\partial t}\n",
    "= - \\vec{u} \\cdot \\nabla c\n",
    "- \\nabla \\cdot \\vec{F}\n",
    "+ M +R\n",
    "$$\n",
    "with:\n",
    "- $c$ [-] a quantity (e.g. temperature, concentration, pressure, ...)\n",
    "- $t$ [s] time\n",
    "- $\\vec{u}$ [m/s] velocity\n",
    "- $\\vec{F}$ [m/s] flux\n",
    "- $M$ [1/s] source term\n",
    "- $R$ [1/s] reaction term\n",
    "- $\\nabla$ [1/m] nabla operator\n",
    "\n",
    "From this general **advection-diffusion-reaction** equation we can define equations for\n",
    "- water pressure (head)\n",
    "- water velocities\n",
    "- temperature\n",
    "- concentration\n",
    "- dissolution\n",
    "\n",
    "We will proceed with the equation for **groundwater flow**, described by the distribution of\n",
    "the **hydraulic head** $h$."
   ]
  },
  {
   "cell_type": "markdown",
   "id": "4739123c-3a67-4efb-bf7c-6cf6814ba15d",
   "metadata": {},
   "source": [
    "----\n",
    "## Groundwater-flow equation\n",
    "\n",
    "The program `GROWAT1D` (GROundWATer1D) solves the **advection-diffusion-reaction** equation\n",
    "without **diffusion** ($\\vec{u} \\cdot \\nabla c=0$) and without **reaction** ($M=R=0$) in a one-dimensional\n",
    "modeling domain for a porous aquifer under steady-state or transient flow conditions:\n",
    "$$\n",
    "\\begin{array}{rcl}\n",
    " S \\frac{\\partial h}{\\partial t} & = & - \\nabla \\cdot \\vec{F} \\\\\n",
    " \\vec{F} &=& - K \\nabla h\n",
    "\\end{array}\n",
    "$$\n",
    "- The first equation is a conservation equation for flow, with $h$ [m] the hydraulic head,\n",
    "$S$ [1/m] the specific storage,\n",
    "$\\vec{F}$ the Dary-flow velocity.\n",
    "- The second equation is the **Darcy law** for laminar flow, \n",
    "with $K$ [m/s] the hydraulic conductivity.\n",
    "\n",
    "These equations will be converted into a numerical algorithm next."
   ]
  },
  {
   "cell_type": "markdown",
   "id": "5647c567-e379-4a9d-92b0-0a99fa17ec99",
   "metadata": {},
   "source": [
    "----\n",
    "## Finite differences in 1D\n",
    "We insert the fluxrate equation into the diffusion equation for a 1D geometry:\n",
    "$$\n",
    "S \\frac{\\partial h}{\\partial t} = \\frac{\\partial}{\\partial x} K \\frac{\\partial h}{\\partial x}\n",
    "$$\n",
    "\n",
    "----\n",
    "## Explicit: FTCS scheme (forward time centered space)\n",
    "We solve the above equation for hydraulic heads $h$, using a forward-time, centered-space method, `FTCS`.\n",
    "Here, the derivatives in the transient diffusion equations are replaced by **forward differences in time** and \n",
    "**central differences is space**:\n",
    "$$\n",
    "\\begin{array}{rcl}\n",
    "S \\frac{h_{i}^{n+1}-h_{i}^{n}}{\\Delta t}\n",
    "&=&\n",
    "\\frac{K^n_{i+0.5} \\frac{\\partial h^n_{i+0.5}}{\\partial x} - K^n_{i-0.5} \\frac{\\partial h^n_{i-0.5}}{\\partial x}}{\\Delta x} \\\\\n",
    "&=& \n",
    "\\frac{K^n_{i+0.5} h^n_{i+1} - K^n_{i+0.5} h^n_{i} - \\big( K^n_{i-0.5} h^n_{i} - K^n_{i-0.5} h^n_{i-1} \\big)}{\\Delta x^2} \\\\\n",
    "&=& \n",
    "\\frac{K^n_{i+0.5} h^n_{i+1} - \\big( K^n_{i+0.5}+K^n_{i-0.5} \\big) h^n_{i} + K^n_{i-0.5} h^n_{i-1} }{\\Delta x^2}\n",
    "\\end{array}\n",
    "$$\n",
    "For the hydraulic conductivities at half-step positions, we use averages:\n",
    "$$\n",
    "\\begin{array}{rcl}\n",
    "K_{left}  &=& \\frac{1}{2} \\big( K_{i-1} + K_{i} \\big) \\\\\n",
    "K_{right} &=& \\frac{1}{2} \\big( K_{i} + K_{i+1} \\big) \\\\\n",
    "\\end{array}\n",
    "$$\n",
    "\n",
    "Solved for the next time step\n",
    "$$\\fbox{$\n",
    "h_{i}^{n+1}\n",
    "=\n",
    "h_{i}^{n} \n",
    "+ \\frac{\\Delta t}{S \\Delta x^2} \\left( \n",
    "K_{right} h^n_{i+1} - \\big( K_{left}+K_{right} \\big) h^n_{i} + K_{left} h^n_{i-1} \n",
    "\\right)\n",
    "$}$$\n",
    "The above equations is a set of $n$ equations for all nodes $i$ of the model domain.\n",
    "\n",
    "In this **explicit scheme**, we calculate the hydraulic heads $h_i^{n+1}$ for the next time step $t^{n+1}$ from \n",
    "hydraulic heads $h_i^{n}$ of the previous time step $t^{n}$. We therefore can solve the above set of equations\n",
    "**one-by-one**, and a simple **function** will be suitable.\n",
    "\n",
    "This equation is implemented in the notebooks with the examples of the differential operators.\n",
    "\n",
    "If we simplify the example by assuming a **constant** hydraulic conductivity, $K=\\text{const}$, we obtain:\n",
    "$$\n",
    "h_{i}^{n+1}\n",
    "=\n",
    "h_{i}^{n} \n",
    "+ \\frac{K \\Delta t}{S \\Delta x^2} \\left( \n",
    " h^n_{i+1} - 2 h^n_{i} +  h^n_{i-1} \n",
    "\\right)\n",
    "$$"
   ]
  },
  {
   "cell_type": "markdown",
   "id": "69b1ef63-e3be-4428-b7f2-dd2192e2ff56",
   "metadata": {
    "tags": []
   },
   "source": [
    "----\n",
    "## Implicit:\n",
    "\n",
    "Next, we extent the `FTCS` method to an **implicit** method. The method is called **implicit**,\n",
    "because we will use information for the new time step $t^{n+1}$ by also using information of\n",
    "the old and the new time steps:"
   ]
  },
  {
   "cell_type": "markdown",
   "id": "b9ee8777",
   "metadata": {},
   "source": [
    "----"
   ]
  }
 ],
 "metadata": {
  "kernelspec": {
   "display_name": "Python 3 (ipykernel)",
   "language": "python",
   "name": "python3"
  },
  "language_info": {
   "codemirror_mode": {
    "name": "ipython",
    "version": 3
   },
   "file_extension": ".py",
   "mimetype": "text/x-python",
   "name": "python",
   "nbconvert_exporter": "python",
   "pygments_lexer": "ipython3",
   "version": "3.11.3"
  }
 },
 "nbformat": 4,
 "nbformat_minor": 5
}
